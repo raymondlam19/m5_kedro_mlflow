{
 "cells": [
  {
   "cell_type": "markdown",
   "metadata": {},
   "source": [
    "# Multi Time series\n",
    "- This notebook is to demostrate how to handle multi time series (multi horizon) forecasting\n",
    "    - LGBM (multi-model)\n",
    "    - DeepAR\n",
    "    - N-BEATS"
   ]
  },
  {
   "cell_type": "code",
   "execution_count": 1,
   "metadata": {},
   "outputs": [],
   "source": [
    "import re\n",
    "import numpy as np\n",
    "import pandas as pd\n",
    "\n",
    "from plotting import Plot, ModelEvaluation\n",
    "from time_series import TsHandler\n",
    "from preprocess import Preprocessor, Dataset\n",
    "from multi_horizon import Prediction\n",
    "from config.get_config import ConfigHandler\n",
    "\n",
    "import warnings\n",
    "warnings.filterwarnings('ignore')"
   ]
  },
  {
   "cell_type": "code",
   "execution_count": null,
   "metadata": {},
   "outputs": [],
   "source": [
    "# Read model_params from notebooks/config/model_params.yml\n",
    "model_params = ConfigHandler.read_yml(\"model_params_path\")\n",
    "\n",
    "WINDOWSIZE = model_params['common']['windowsize']\n",
    "HORIZON = model_params['common']['horizon']\n",
    "LGBM_PARAMS = model_params['lgbm']['lgbm_params']\n",
    "LGBM_TRAINER_ARGS = model_params['lgbm']['lgbm_trainer_args']\n",
    "\n",
    "print(f\"windowsize:{WINDOWSIZE}\")\n",
    "print(f\"horizon:{HORIZON}\")\n",
    "print(f\"lgbm_params:{LGBM_PARAMS}\")\n",
    "print(f\"lgbm_trainer_args:{LGBM_TRAINER_ARGS}\")"
   ]
  }
 ],
 "metadata": {
  "kernelspec": {
   "display_name": "Python 3.8.13 ('forecast')",
   "language": "python",
   "name": "python3"
  },
  "language_info": {
   "codemirror_mode": {
    "name": "ipython",
    "version": 3
   },
   "file_extension": ".py",
   "mimetype": "text/x-python",
   "name": "python",
   "nbconvert_exporter": "python",
   "pygments_lexer": "ipython3",
   "version": "3.8.13"
  },
  "orig_nbformat": 4,
  "vscode": {
   "interpreter": {
    "hash": "1f71e6f675913fa0564445de03cb80048bee8e667c36582884662ebff8e624fd"
   }
  }
 },
 "nbformat": 4,
 "nbformat_minor": 2
}
